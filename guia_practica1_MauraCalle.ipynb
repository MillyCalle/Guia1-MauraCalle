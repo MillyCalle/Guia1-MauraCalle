{
 "cells": [
  {
   "cell_type": "markdown",
   "id": "ab12ade2",
   "metadata": {},
   "source": [
    "# 🧠 GUÍA PRÁCTICA 1 — Análisis de Datos con Python\n",
    "\n",
    "**Alumno:** _Maura Calle_  \n",
    "**Asignatura:** Inteligencia Artificial — Práctica 1  \n",
    "**Objetivo:** Realizar un Análisis Exploratorio de Datos (EDA) aplicado a compras públicas en Ecuador, incluyendo carga, limpieza, visualización y análisis por años.\n"
   ]
  },
  {
   "cell_type": "markdown",
   "id": "04bb7f78",
   "metadata": {},
   "source": [
    "## 🧩 1. Importación de librerías necesarias  \n",
    "**Objetivo:** Importar las bibliotecas esenciales que se usarán para el análisis de datos, limpieza y visualización.  \n",
    "\n",
    "**Descripción:**  \n",
    "- **pandas:** manejo de datos en DataFrame.  \n",
    "- **numpy:** cálculos numéricos.  \n",
    "- **requests:** conexión a APIs.  \n",
    "- **plotly:** visualizaciones interactivas.  \n",
    "- **datetime:** manejo de fechas.\n"
   ]
  },
  {
   "cell_type": "code",
   "execution_count": null,
   "id": "1dd54ab2",
   "metadata": {},
   "outputs": [],
   "source": [
    "import pandas as pd\n",
    "import numpy as np\n",
    "import requests\n",
    "from datetime import datetime\n",
    "import plotly.express as px\n",
    "import plotly.graph_objects as go\n",
    "import io"
   ]
  },
  {
   "cell_type": "markdown",
   "id": "cc734c23",
   "metadata": {},
   "source": [
    "## 📂 2. Carga de datos desde API o CSV  \n",
    "**Objetivo:** Obtener los datos desde la API pública o un CSV local.  \n",
    "**Descripción:** Garantiza que el flujo funcione aunque la API falle, usando un CSV o un dataset demo.\n"
   ]
  },
  {
   "cell_type": "code",
   "execution_count": null,
   "id": "b929f430",
   "metadata": {},
   "outputs": [],
   "source": [
    "API_URL = \"https://datosabiertos.compraspublicas.gob.ec/PLATAFORMA/api/search_ocds\"\n",
    "LOCAL_CSV = \"compras_publicas_ecuador.csv\"\n",
    "\n",
    "def load_from_api(params=None, timeout=15):\n",
    "    try:\n",
    "        resp = requests.get(API_URL, params=params or {}, timeout=timeout)\n",
    "        resp.raise_for_status()\n",
    "        data = resp.json()\n",
    "        if isinstance(data, dict) and \"data\" in data:\n",
    "            df = pd.json_normalize(data[\"data\"])\n",
    "        else:\n",
    "            df = pd.json_normalize(data)\n",
    "        print(\"✅ Datos cargados correctamente desde la API.\")\n",
    "        return df\n",
    "    except Exception as e:\n",
    "        print(f\"⚠️ Error al cargar desde API: {e}\")\n",
    "        return None\n",
    "\n",
    "def load_from_csv(path):\n",
    "    try:\n",
    "        df = pd.read_csv(path)\n",
    "        print(\"✅ Datos cargados desde CSV local.\")\n",
    "        return df\n",
    "    except Exception as e:\n",
    "        print(f\"⚠️ Error al cargar CSV: {e}\")\n",
    "        return None\n",
    "\n",
    "def load_data(api_params=None, csv_path=LOCAL_CSV):\n",
    "    df = load_from_api(api_params)\n",
    "    if df is None:\n",
    "        df = load_from_csv(csv_path)\n",
    "    if df is None:\n",
    "        print(\"⚙️ Generando dataset demo.\")\n",
    "        rng = pd.date_range(\"2021-01-01\", \"2023-12-31\", freq=\"W\")\n",
    "        n = len(rng)\n",
    "        df = pd.DataFrame({\n",
    "            \"date\": rng,\n",
    "            \"province\": np.random.choice([\"Azuay\",\"Pichincha\",\"Guayas\",\"Manabí\"], size=n),\n",
    "            \"internal_type\": np.random.choice([\"Obra\",\"Suministro\",\"Servicios\"], size=n),\n",
    "            \"contracts\": np.random.poisson(3, size=n),\n",
    "            \"total\": np.abs(np.random.normal(50000, 20000, size=n)).round(2)\n",
    "        })\n",
    "    return df\n",
    "\n",
    "df = load_data()\n"
   ]
  },
  {
   "cell_type": "markdown",
   "id": "97a1dc51",
   "metadata": {},
   "source": [
    "## 🧼 3. Limpieza y estandarización de datos  \n",
    "**Objetivo:** Preparar el dataset eliminando duplicados, nulos y renombrando columnas.\n"
   ]
  },
  {
   "cell_type": "code",
   "execution_count": null,
   "id": "d635dde0",
   "metadata": {},
   "outputs": [],
   "source": [
    "def clean_dataframe(df):\n",
    "    df = df.copy()\n",
    "    rename_map = {}\n",
    "    for col in df.columns:\n",
    "        low = col.lower().strip()\n",
    "        if any(x in low for x in [\"provincia\", \"province\"]):\n",
    "            rename_map[col] = \"province\"\n",
    "        elif any(x in low for x in [\"tipo\", \"contratacion\", \"internal_type\", \"type\"]):\n",
    "            rename_map[col] = \"internal_type\"\n",
    "        elif any(x in low for x in [\"monto\", \"total\", \"valor\", \"amount\", \"price\"]):\n",
    "            rename_map[col] = \"total\"\n",
    "        elif any(x in low for x in [\"contrato\", \"contracts\", \"nro_contratos\"]):\n",
    "            rename_map[col] = \"contracts\"\n",
    "        elif any(x in low for x in [\"fecha\", \"date\"]):\n",
    "            rename_map[col] = \"date\"\n",
    "        elif \"year\" in low or \"año\" in low:\n",
    "            rename_map[col] = \"year\"\n",
    "        elif \"month\" in low or \"mes\" in low:\n",
    "            rename_map[col] = \"month\"\n",
    "    if rename_map:\n",
    "        df = df.rename(columns=rename_map)\n",
    "    if \"total\" not in df.columns:\n",
    "        df[\"total\"] = 0.0\n",
    "    if \"contracts\" not in df.columns:\n",
    "        df[\"contracts\"] = 0\n",
    "    if \"date\" not in df.columns:\n",
    "        df[\"date\"] = pd.NaT\n",
    "    df[\"total\"] = pd.to_numeric(df[\"total\"], errors=\"coerce\")\n",
    "    df[\"contracts\"] = pd.to_numeric(df[\"contracts\"], errors=\"coerce\").fillna(0).astype(int)\n",
    "    df[\"date\"] = pd.to_datetime(df[\"date\"], errors=\"coerce\")\n",
    "    if df[\"date\"].notna().any():\n",
    "        df[\"year\"] = df[\"date\"].dt.year\n",
    "        df[\"month\"] = df[\"date\"].dt.month\n",
    "    else:\n",
    "        if \"year\" not in df.columns: df[\"year\"] = np.nan\n",
    "        if \"month\" not in df.columns: df[\"month\"] = np.nan\n",
    "    df = df.drop_duplicates()\n",
    "    df = df.dropna(subset=[\"total\"], how=\"all\")\n",
    "    for c in [\"province\", \"internal_type\"]:\n",
    "        if c in df.columns:\n",
    "            df[c] = df[c].astype(str).str.strip().str.title().replace({\"Nan\": \"Desconocido\", \"None\": \"Desconocido\"})\n",
    "    return df\n",
    "\n",
    "df = clean_dataframe(df)\n",
    "df.info()\n"
   ]
  },
  {
   "cell_type": "markdown",
   "id": "1d5189ef",
   "metadata": {},
   "source": [
    "## 📊 4. Verificación inicial y descripción de datos  \n",
    "**Objetivo:** Explorar la estructura y tipos de datos.\n"
   ]
  },
  {
   "cell_type": "code",
   "execution_count": null,
   "id": "9316d957",
   "metadata": {},
   "outputs": [],
   "source": [
    "print(df.shape)\n",
    "df.head()\n",
    "df.describe()\n"
   ]
  },
  {
   "cell_type": "markdown",
   "id": "8fce3aaf",
   "metadata": {},
   "source": [
    "## 📊 5. KPIs básicos  \n",
    "**Objetivo:** Calcular indicadores principales como registros, montos totales, promedio, máximo y mínimo.\n"
   ]
  },
  {
   "cell_type": "code",
   "execution_count": null,
   "id": "7c9fd065",
   "metadata": {},
   "outputs": [],
   "source": [
    "total_registros = len(df)\n",
    "monto_total = df[\"total\"].sum()\n",
    "promedio = df[\"total\"].mean()\n",
    "maximo = df[\"total\"].max()\n",
    "minimo = df[\"total\"].min()\n",
    "\n",
    "print(\"📈 KPIs Principales\")\n",
    "print(\"----------------------\")\n",
    "print(f\"Total de registros: {total_registros}\")\n",
    "print(f\"Monto total: ${monto_total:,.2f}\")\n",
    "print(f\"Promedio por registro: ${promedio:,.2f}\")\n",
    "print(f\"Máximo: ${maximo:,.2f}\")\n",
    "print(f\"Mínimo: ${minimo:,.2f}\")\n"
   ]
  },
  {
   "cell_type": "markdown",
   "id": "6ba2e308",
   "metadata": {},
   "source": [
    "## 📊 6. Análisis por categorías  \n",
    "**Objetivo:** Ver distribución por tipo de contratación y provincia.\n"
   ]
  },
  {
   "cell_type": "code",
   "execution_count": null,
   "id": "affe8bf3",
   "metadata": {},
   "outputs": [],
   "source": [
    "print(\"Contrataciones por tipo:\")\n",
    "print(df[\"internal_type\"].value_counts())\n",
    "\n",
    "print(\"\\nMontos totales por provincia:\")\n",
    "print(df.groupby(\"province\")[\"total\"].sum().sort_values(ascending=False).head(10))\n"
   ]
  },
  {
   "cell_type": "markdown",
   "id": "88b53d92",
   "metadata": {},
   "source": [
    "## 📈 7. Visualización: Montos por tipo de contratación\n"
   ]
  },
  {
   "cell_type": "code",
   "execution_count": null,
   "id": "a3eb2753",
   "metadata": {},
   "outputs": [],
   "source": [
    "fig1 = px.bar(\n",
    "    df.groupby(\"internal_type\")[\"total\"].sum().reset_index().sort_values(\"total\", ascending=False),\n",
    "    x=\"internal_type\",\n",
    "    y=\"total\",\n",
    "    title=\"Total de montos por tipo de contratación\",\n",
    "    labels={\"internal_type\":\"Tipo de Contratación\", \"total\":\"Monto Total (USD)\"}\n",
    ")\n",
    "fig1.show()\n"
   ]
  },
  {
   "cell_type": "markdown",
   "id": "edecd265",
   "metadata": {},
   "source": [
    "## 📆 8. Evolución mensual de montos\n"
   ]
  },
  {
   "cell_type": "code",
   "execution_count": null,
   "id": "3919a3f1",
   "metadata": {},
   "outputs": [],
   "source": [
    "if df[\"date\"].notna().sum() > 0:\n",
    "    monthly = df.set_index(\"date\").resample(\"M\")[\"total\"].sum().reset_index()\n",
    "    fig2 = px.line(monthly, x=\"date\", y=\"total\", title=\"Evolución mensual de montos totales\")\n",
    "    fig2.show()\n"
   ]
  },
  {
   "cell_type": "markdown",
   "id": "7ae7c2d6",
   "metadata": {},
   "source": [
    "## 🔗 9. Relación contratos vs montos\n"
   ]
  },
  {
   "cell_type": "code",
   "execution_count": null,
   "id": "93ef309a",
   "metadata": {},
   "outputs": [],
   "source": [
    "fig3 = px.scatter(df, x=\"contracts\", y=\"total\", color=\"internal_type\",\n",
    "                  title=\"Relación entre contratos y montos\",\n",
    "                  labels={\"contracts\":\"Cantidad de Contratos\",\"total\":\"Monto Total (USD)\"})\n",
    "fig3.show()\n"
   ]
  },
  {
   "cell_type": "markdown",
   "id": "367cebb4",
   "metadata": {},
   "source": [
    "## 🗓️ 10. Análisis por años\n"
   ]
  },
  {
   "cell_type": "code",
   "execution_count": null,
   "id": "48e19b2f",
   "metadata": {},
   "outputs": [],
   "source": [
    "kpis_year = df.groupby(\"year\").agg(\n",
    "    registros=(\"total\",\"count\"),\n",
    "    monto_total=(\"total\",\"sum\"),\n",
    "    promedio=(\"total\",\"mean\")\n",
    ").reset_index()\n",
    "kpis_year\n"
   ]
  },
  {
   "cell_type": "markdown",
   "id": "605114c8",
   "metadata": {},
   "source": [
    "## 🌡️ 11. Heatmap Año × Mes\n"
   ]
  },
  {
   "cell_type": "code",
   "execution_count": null,
   "id": "f37bb420",
   "metadata": {},
   "outputs": [],
   "source": [
    "if df[\"date\"].notna().sum() > 0:\n",
    "    heat = df.copy()\n",
    "    heat[\"year\"] = heat[\"date\"].dt.year\n",
    "    heat[\"month\"] = heat[\"date\"].dt.month\n",
    "    pivot_h = heat.pivot_table(index=\"year\", columns=\"month\", values=\"total\", aggfunc=\"sum\", fill_value=0)\n",
    "    fig4 = px.imshow(pivot_h, aspect=\"auto\", title=\"Heatmap Año × Mes\", labels={\"x\":\"Mes\",\"y\":\"Año\",\"color\":\"Monto\"})\n",
    "    fig4.show()\n"
   ]
  },
  {
   "cell_type": "markdown",
   "id": "9a99b090",
   "metadata": {},
   "source": [
    "## 📉 12. Correlación contratos vs montos\n"
   ]
  },
  {
   "cell_type": "code",
   "execution_count": null,
   "id": "e5e4b7e3",
   "metadata": {},
   "outputs": [],
   "source": [
    "corr = df[[\"total\",\"contracts\"]].corr()\n",
    "corr\n"
   ]
  },
  {
   "cell_type": "markdown",
   "id": "e37c76bf",
   "metadata": {},
   "source": [
    "## 💾 13. Exportación de resultados\n"
   ]
  },
  {
   "cell_type": "code",
   "execution_count": null,
   "id": "a2a3d93f",
   "metadata": {},
   "outputs": [],
   "source": [
    "df.to_csv(\"compras_publicas_procesadas.csv\", index=False)\n",
    "print(\"✅ CSV exportado con éxito.\")\n"
   ]
  },
  {
   "cell_type": "markdown",
   "id": "c76c46c8",
   "metadata": {},
   "source": [
    "## 🧭 14. Conclusiones finales  \n",
    "**Objetivo:** Sintetizar hallazgos: tendencias por tipo de contrato, provincias con mayores montos, variaciones por año y mes.\n"
   ]
  }
 ],
 "metadata": {
  "kernelspec": {
   "display_name": "base",
   "language": "python",
   "name": "python3"
  },
  "language_info": {
   "name": "python",
   "version": "3.13.5"
  }
 },
 "nbformat": 4,
 "nbformat_minor": 5
}
